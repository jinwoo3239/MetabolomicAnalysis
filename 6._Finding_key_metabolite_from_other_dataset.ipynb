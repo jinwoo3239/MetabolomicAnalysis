{
 "cells": [
  {
   "cell_type": "code",
   "execution_count": 1,
   "metadata": {},
   "outputs": [],
   "source": [
    "import pandas as pd\n",
    "\n",
    "from libs.utils import mapping_new_features_from_reference"
   ]
  },
  {
   "cell_type": "code",
   "execution_count": 2,
   "metadata": {},
   "outputs": [],
   "source": [
    "# finding the target m/z values within the set error range\n",
    "# Prepare the a dataset(matchinig_dataset) to be matched with the reference dataset(reference_dataset)\n",
    "\n",
    "reference_dataset = pd.read_excel('./data/example_metabolite_ID.xlsx', sheet_name='ID')\n",
    "matching_dataset = pd.read_excel('./data/example_another_dataset_mapping_example.xlsx', sheet_name='mapping_target')"
   ]
  },
  {
   "cell_type": "code",
   "execution_count": 3,
   "metadata": {},
   "outputs": [
    {
     "data": {
      "text/html": [
       "<div>\n",
       "<style scoped>\n",
       "    .dataframe tbody tr th:only-of-type {\n",
       "        vertical-align: middle;\n",
       "    }\n",
       "\n",
       "    .dataframe tbody tr th {\n",
       "        vertical-align: top;\n",
       "    }\n",
       "\n",
       "    .dataframe thead th {\n",
       "        text-align: right;\n",
       "    }\n",
       "</style>\n",
       "<table border=\"1\" class=\"dataframe\">\n",
       "  <thead>\n",
       "    <tr style=\"text-align: right;\">\n",
       "      <th></th>\n",
       "      <th>Features</th>\n",
       "      <th>mz</th>\n",
       "      <th>ID</th>\n",
       "      <th>ID_group</th>\n",
       "    </tr>\n",
       "  </thead>\n",
       "  <tbody>\n",
       "    <tr>\n",
       "      <th>0</th>\n",
       "      <td>2.24_132.0663</td>\n",
       "      <td>132.0663</td>\n",
       "      <td>Hydroxyproline</td>\n",
       "      <td>AA</td>\n",
       "    </tr>\n",
       "    <tr>\n",
       "      <th>1</th>\n",
       "      <td>2.63_132.1033</td>\n",
       "      <td>132.1033</td>\n",
       "      <td>Leucine</td>\n",
       "      <td>AA</td>\n",
       "    </tr>\n",
       "    <tr>\n",
       "      <th>2</th>\n",
       "      <td>2.5_118.066</td>\n",
       "      <td>118.0660</td>\n",
       "      <td>Indole</td>\n",
       "      <td>indole</td>\n",
       "    </tr>\n",
       "  </tbody>\n",
       "</table>\n",
       "</div>"
      ],
      "text/plain": [
       "        Features        mz              ID ID_group\n",
       "0  2.24_132.0663  132.0663  Hydroxyproline       AA\n",
       "1  2.63_132.1033  132.1033         Leucine       AA\n",
       "2    2.5_118.066  118.0660          Indole   indole"
      ]
     },
     "execution_count": 3,
     "metadata": {},
     "output_type": "execute_result"
    }
   ],
   "source": [
    "# reference_dataset should include the \"Features\", \"ID\", and \"ID_group\"\n",
    "\n",
    "reference_dataset.head(3)"
   ]
  },
  {
   "cell_type": "code",
   "execution_count": 4,
   "metadata": {},
   "outputs": [
    {
     "data": {
      "text/html": [
       "<div>\n",
       "<style scoped>\n",
       "    .dataframe tbody tr th:only-of-type {\n",
       "        vertical-align: middle;\n",
       "    }\n",
       "\n",
       "    .dataframe tbody tr th {\n",
       "        vertical-align: top;\n",
       "    }\n",
       "\n",
       "    .dataframe thead th {\n",
       "        text-align: right;\n",
       "    }\n",
       "</style>\n",
       "<table border=\"1\" class=\"dataframe\">\n",
       "  <thead>\n",
       "    <tr style=\"text-align: right;\">\n",
       "      <th></th>\n",
       "      <th>Features</th>\n",
       "      <th>mz</th>\n",
       "    </tr>\n",
       "  </thead>\n",
       "  <tbody>\n",
       "    <tr>\n",
       "      <th>0</th>\n",
       "      <td>0.21_245.856</td>\n",
       "      <td>245.8560</td>\n",
       "    </tr>\n",
       "    <tr>\n",
       "      <th>1</th>\n",
       "      <td>0.22_241.8829</td>\n",
       "      <td>241.8829</td>\n",
       "    </tr>\n",
       "    <tr>\n",
       "      <th>2</th>\n",
       "      <td>0.23_197.9048</td>\n",
       "      <td>197.9048</td>\n",
       "    </tr>\n",
       "  </tbody>\n",
       "</table>\n",
       "</div>"
      ],
      "text/plain": [
       "        Features        mz\n",
       "0   0.21_245.856  245.8560\n",
       "1  0.22_241.8829  241.8829\n",
       "2  0.23_197.9048  197.9048"
      ]
     },
     "execution_count": 4,
     "metadata": {},
     "output_type": "execute_result"
    }
   ],
   "source": [
    "# matching_dataset should include the \"Features\", and \"mz\" columns\n",
    "\n",
    "matching_dataset.head(3)"
   ]
  },
  {
   "cell_type": "code",
   "execution_count": 5,
   "metadata": {},
   "outputs": [
    {
     "name": "stdout",
     "output_type": "stream",
     "text": [
      "mapping.csv files are saved\n"
     ]
    }
   ],
   "source": [
    "# windows_ppm = error range (unit = ppm)\n",
    "\n",
    "matching_results = mapping_new_features_from_reference(\n",
    "    reference_dataset=reference_dataset,\n",
    "    matching_dataset=matching_dataset,\n",
    "    windows_ppm=20,\n",
    "    is_save_file=True\n",
    ")"
   ]
  },
  {
   "cell_type": "code",
   "execution_count": 6,
   "metadata": {},
   "outputs": [
    {
     "data": {
      "text/html": [
       "<div>\n",
       "<style scoped>\n",
       "    .dataframe tbody tr th:only-of-type {\n",
       "        vertical-align: middle;\n",
       "    }\n",
       "\n",
       "    .dataframe tbody tr th {\n",
       "        vertical-align: top;\n",
       "    }\n",
       "\n",
       "    .dataframe thead th {\n",
       "        text-align: right;\n",
       "    }\n",
       "</style>\n",
       "<table border=\"1\" class=\"dataframe\">\n",
       "  <thead>\n",
       "    <tr style=\"text-align: right;\">\n",
       "      <th></th>\n",
       "      <th>mapped_features</th>\n",
       "      <th>reference_features</th>\n",
       "      <th>ID</th>\n",
       "      <th>ID_group</th>\n",
       "    </tr>\n",
       "  </thead>\n",
       "  <tbody>\n",
       "    <tr>\n",
       "      <th>132.1028</th>\n",
       "      <td>0.94_132.1028</td>\n",
       "      <td>2.63_132.1033</td>\n",
       "      <td>Leucine</td>\n",
       "      <td>AA</td>\n",
       "    </tr>\n",
       "    <tr>\n",
       "      <th>120.0813</th>\n",
       "      <td>1.61_120.0813</td>\n",
       "      <td>2.12_120.0815</td>\n",
       "      <td>Indoline</td>\n",
       "      <td>indole</td>\n",
       "    </tr>\n",
       "    <tr>\n",
       "      <th>118.0658</th>\n",
       "      <td>1.61_118.0658</td>\n",
       "      <td>2.5_118.066</td>\n",
       "      <td>Indole</td>\n",
       "      <td>indole</td>\n",
       "    </tr>\n",
       "    <tr>\n",
       "      <th>132.0662</th>\n",
       "      <td>1.9_132.0662</td>\n",
       "      <td>2.24_132.0663</td>\n",
       "      <td>Hydroxyproline</td>\n",
       "      <td>AA</td>\n",
       "    </tr>\n",
       "    <tr>\n",
       "      <th>146.0607</th>\n",
       "      <td>2.04_146.0607</td>\n",
       "      <td>2.5_146.0609</td>\n",
       "      <td>Indole-3-carboxaldehyde</td>\n",
       "      <td>indole</td>\n",
       "    </tr>\n",
       "    <tr>\n",
       "      <th>118.0657</th>\n",
       "      <td>2.04_118.0657</td>\n",
       "      <td>2.5_118.066</td>\n",
       "      <td>Indole</td>\n",
       "      <td>indole</td>\n",
       "    </tr>\n",
       "    <tr>\n",
       "      <th>118.0661</th>\n",
       "      <td>6.31_118.0661</td>\n",
       "      <td>2.5_118.066</td>\n",
       "      <td>Indole</td>\n",
       "      <td>indole</td>\n",
       "    </tr>\n",
       "    <tr>\n",
       "      <th>520.3405</th>\n",
       "      <td>6.82_520.3405</td>\n",
       "      <td>7.39_520.3406</td>\n",
       "      <td>LysoPC(18:2)</td>\n",
       "      <td>lysoPC</td>\n",
       "    </tr>\n",
       "    <tr>\n",
       "      <th>544.3401</th>\n",
       "      <td>6.84_544.3401</td>\n",
       "      <td>7.38_544.3401</td>\n",
       "      <td>LysoPC(20:4)</td>\n",
       "      <td>lysoPC</td>\n",
       "    </tr>\n",
       "    <tr>\n",
       "      <th>520.3406</th>\n",
       "      <td>6.95_520.3406</td>\n",
       "      <td>7.39_520.3406</td>\n",
       "      <td>LysoPC(18:2)</td>\n",
       "      <td>lysoPC</td>\n",
       "    </tr>\n",
       "  </tbody>\n",
       "</table>\n",
       "</div>"
      ],
      "text/plain": [
       "         mapped_features reference_features                       ID ID_group\n",
       "132.1028   0.94_132.1028      2.63_132.1033                  Leucine       AA\n",
       "120.0813   1.61_120.0813      2.12_120.0815                 Indoline   indole\n",
       "118.0658   1.61_118.0658        2.5_118.066                   Indole   indole\n",
       "132.0662    1.9_132.0662      2.24_132.0663           Hydroxyproline       AA\n",
       "146.0607   2.04_146.0607       2.5_146.0609  Indole-3-carboxaldehyde   indole\n",
       "118.0657   2.04_118.0657        2.5_118.066                   Indole   indole\n",
       "118.0661   6.31_118.0661        2.5_118.066                   Indole   indole\n",
       "520.3405   6.82_520.3405      7.39_520.3406             LysoPC(18:2)   lysoPC\n",
       "544.3401   6.84_544.3401      7.38_544.3401             LysoPC(20:4)   lysoPC\n",
       "520.3406   6.95_520.3406      7.39_520.3406             LysoPC(18:2)   lysoPC"
      ]
     },
     "execution_count": 6,
     "metadata": {},
     "output_type": "execute_result"
    }
   ],
   "source": [
    "# mapped_features = features in matching_dataset\n",
    "# refernce_metabolites = features in reference_dataset\n",
    "# index indicates a mz value\n",
    "\n",
    "matching_results.head(10)"
   ]
  }
 ],
 "metadata": {
  "kernelspec": {
   "display_name": "base",
   "language": "python",
   "name": "python3"
  },
  "language_info": {
   "codemirror_mode": {
    "name": "ipython",
    "version": 3
   },
   "file_extension": ".py",
   "mimetype": "text/x-python",
   "name": "python",
   "nbconvert_exporter": "python",
   "pygments_lexer": "ipython3",
   "version": "3.9.12"
  },
  "orig_nbformat": 4
 },
 "nbformat": 4,
 "nbformat_minor": 2
}
